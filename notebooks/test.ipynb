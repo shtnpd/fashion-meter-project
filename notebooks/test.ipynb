{
 "cells": [
  {
   "metadata": {},
   "cell_type": "markdown",
   "source": "Распределение данных по классам",
   "id": "92968519b0c12e19"
  },
  {
   "cell_type": "code",
   "id": "initial_id",
   "metadata": {
    "collapsed": true,
    "ExecuteTime": {
     "end_time": "2024-12-27T11:54:19.035194Z",
     "start_time": "2024-12-27T11:54:19.031310Z"
    }
   },
   "source": [
    "data_dir = 'data/'\n",
    "processed = data_dir + 'processed/'\n",
    "raw = data_dir + 'raw/'"
   ],
   "outputs": [],
   "execution_count": 1
  },
  {
   "metadata": {
    "ExecuteTime": {
     "end_time": "2024-12-27T12:05:00.050626Z",
     "start_time": "2024-12-27T12:05:00.041962Z"
    }
   },
   "cell_type": "code",
   "source": [
    "import os\n",
    "\n",
    "def count_and_compare_files(raw_base_dir, processed_base_dir):\n",
    "    # Получаем список подпапок в каждой директории\n",
    "    raw_subdirs = [subdir for subdir in os.listdir(raw_base_dir) if os.path.isdir(os.path.join(raw_base_dir, subdir))]\n",
    "\n",
    "    raw_total = 0\n",
    "    processed_total = 0\n",
    "    # Проходим по каждой подпапке и считаем файлы\n",
    "    for raw_subdir in raw_subdirs:\n",
    "        raw_subdir_path = os.path.join(raw_base_dir, raw_subdir)\n",
    "        processed_subdir_path = os.path.join(processed_base_dir, raw_subdir)\n",
    "\n",
    "        if os.path.exists(processed_subdir_path):\n",
    "            # Список файлов в каждой подпапке\n",
    "            raw_files = {file for file in os.listdir(raw_subdir_path) if file.lower().endswith(('.jpeg', '.jpg'))}\n",
    "            processed_files = {file for file in os.listdir(processed_subdir_path) if file.lower().endswith(('.jpeg', '.jpg'))}\n",
    "\n",
    "            # Подсчёт файлов\n",
    "            raw_count = len(raw_files)\n",
    "            processed_count = len(processed_files)\n",
    "            raw_total += raw_count\n",
    "            processed_total += processed_count\n",
    "\n",
    "            # Сравнение\n",
    "            identical_files = raw_files.intersection(processed_files)\n",
    "            unique_to_raw = raw_files - processed_files\n",
    "            unique_to_processed = processed_files - raw_files\n",
    "\n",
    "            # Вывод результатов\n",
    "            print(f\"Подпапка: {raw_subdir}\")\n",
    "            print(f\"  В raw: {raw_count} JPEG файлов\")\n",
    "            print(f\"  В processed: {processed_count} JPEG файлов\")\n",
    "            print(f\"  Совпадающие файлы: {len(identical_files)}\")\n",
    "            if unique_to_raw:\n",
    "                print(f\"  Уникальные для raw: {', '.join(unique_to_raw)}\")\n",
    "            if unique_to_processed:\n",
    "                print(f\"  Уникальные для processed: {', '.join(unique_to_processed)}\")\n",
    "            print()\n",
    "        else:\n",
    "            print(f\"Подпапка {raw_subdir} отсутствует в processed.\")\n",
    "\n",
    "        print(f\"Всего в raw: {raw_total} файлов\")\n",
    "        print(f\"Всего в processed: {processed_total} файлов\")"
   ],
   "id": "aae03622f66ca0e8",
   "outputs": [],
   "execution_count": 15
  },
  {
   "metadata": {
    "ExecuteTime": {
     "end_time": "2024-12-27T12:05:00.858695Z",
     "start_time": "2024-12-27T12:05:00.851023Z"
    }
   },
   "cell_type": "code",
   "source": "count_and_compare_files(raw, processed)",
   "id": "a40b78aecf9a1834",
   "outputs": [
    {
     "name": "stdout",
     "output_type": "stream",
     "text": [
      "Подпапка: academia-clean-rescaled\n",
      "  В raw: 348 JPEG файлов\n",
      "  В processed: 348 JPEG файлов\n",
      "  Совпадающие файлы: 348\n",
      "\n",
      "Всего в raw: 348 файлов\n",
      "Всего в processed: 348 файлов\n",
      "Подпапка: y2k-clean-rescaled\n",
      "  В raw: 324 JPEG файлов\n",
      "  В processed: 324 JPEG файлов\n",
      "  Совпадающие файлы: 324\n",
      "\n",
      "Всего в raw: 672 файлов\n",
      "Всего в processed: 672 файлов\n",
      "Подпапка: cottagecore-clean-rescaled\n",
      "  В raw: 299 JPEG файлов\n",
      "  В processed: 299 JPEG файлов\n",
      "  Совпадающие файлы: 299\n",
      "\n",
      "Всего в raw: 971 файлов\n",
      "Всего в processed: 971 файлов\n",
      "Подпапка: alt-clean-rescaled\n",
      "  В raw: 340 JPEG файлов\n",
      "  В processed: 340 JPEG файлов\n",
      "  Совпадающие файлы: 340\n",
      "\n",
      "Всего в raw: 1311 файлов\n",
      "Всего в processed: 1311 файлов\n"
     ]
    }
   ],
   "execution_count": 16
  },
  {
   "metadata": {
    "ExecuteTime": {
     "end_time": "2024-12-27T12:05:29.360955Z",
     "start_time": "2024-12-27T12:05:29.082999Z"
    }
   },
   "cell_type": "code",
   "source": "import pandas as pd",
   "id": "6fb2612fade9c36c",
   "outputs": [],
   "execution_count": 17
  },
  {
   "metadata": {
    "ExecuteTime": {
     "end_time": "2024-12-27T12:12:14.158849Z",
     "start_time": "2024-12-27T12:12:14.146114Z"
    }
   },
   "cell_type": "code",
   "source": [
    "df_raw_test = pd.read_csv(os.path.join(raw, 'test.csv'))\n",
    "df_raw_train = pd.read_csv(os.path.join(raw, 'train.csv'))"
   ],
   "id": "2b42f78a11c51ae7",
   "outputs": [],
   "execution_count": 25
  },
  {
   "metadata": {
    "ExecuteTime": {
     "end_time": "2024-12-27T12:10:33.923518Z",
     "start_time": "2024-12-27T12:10:33.919066Z"
    }
   },
   "cell_type": "code",
   "source": "df_raw_test.shape, df_raw_train.shape",
   "id": "f8182dc1354b495b",
   "outputs": [
    {
     "data": {
      "text/plain": [
       "((280, 2), (1109, 2))"
      ]
     },
     "execution_count": 23,
     "metadata": {},
     "output_type": "execute_result"
    }
   ],
   "execution_count": 23
  },
  {
   "metadata": {
    "ExecuteTime": {
     "end_time": "2024-12-27T12:15:30.308006Z",
     "start_time": "2024-12-27T12:15:30.292190Z"
    }
   },
   "cell_type": "code",
   "source": [
    "df_processed_test = pd.read_csv(os.path.join(processed, 'test.csv'))\n",
    "df_processed_train = pd.read_csv(os.path.join(processed, 'train.csv'))"
   ],
   "id": "a6b3ae8c2d85de9",
   "outputs": [],
   "execution_count": 29
  },
  {
   "metadata": {
    "ExecuteTime": {
     "end_time": "2024-12-27T12:15:30.534451Z",
     "start_time": "2024-12-27T12:15:30.529886Z"
    }
   },
   "cell_type": "code",
   "source": "df_processed_test.shape, df_processed_train.shape",
   "id": "c23c39a29f438635",
   "outputs": [
    {
     "data": {
      "text/plain": [
       "((280, 3), (1109, 3))"
      ]
     },
     "execution_count": 30,
     "metadata": {},
     "output_type": "execute_result"
    }
   ],
   "execution_count": 30
  }
 ],
 "metadata": {
  "kernelspec": {
   "display_name": "Python 3",
   "language": "python",
   "name": "python3"
  },
  "language_info": {
   "codemirror_mode": {
    "name": "ipython",
    "version": 2
   },
   "file_extension": ".py",
   "mimetype": "text/x-python",
   "name": "python",
   "nbconvert_exporter": "python",
   "pygments_lexer": "ipython2",
   "version": "2.7.6"
  }
 },
 "nbformat": 4,
 "nbformat_minor": 5
}
