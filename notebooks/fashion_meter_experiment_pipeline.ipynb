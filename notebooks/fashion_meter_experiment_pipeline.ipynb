{
  "nbformat": 4,
  "nbformat_minor": 0,
  "metadata": {
    "colab": {
      "provenance": []
    },
    "kernelspec": {
      "name": "python3",
      "display_name": "Python 3"
    },
    "language_info": {
      "name": "python"
    }
  },
  "cells": [
    {
      "cell_type": "code",
      "execution_count": null,
      "metadata": {
        "id": "VG3R5WpcNNpF"
      },
      "outputs": [],
      "source": [
        "import os\n",
        "import subprocess"
      ]
    },
    {
      "cell_type": "code",
      "source": [
        "def process_data(input_csv, output_csv):\n",
        "    \"\"\"\n",
        "    Обрабатывает raw данные и сохраняет в папку processed.\n",
        "    \"\"\"\n",
        "    command = [\n",
        "        \"python\", \"-m\", \"fashion_meter_module.dataset\", \"process-raw-dataset\",\n",
        "        \"--input-csv\", input_csv,\n",
        "        \"--output-csv\", output_csv\n",
        "    ]\n",
        "    subprocess.run(command, check=True)\n",
        "    print(f\"Data processed and saved to {output_csv}\")"
      ],
      "metadata": {
        "id": "v9AsKFiKg-d7"
      },
      "execution_count": null,
      "outputs": []
    },
    {
      "cell_type": "code",
      "source": [
        "def train_model(model_path, train_csv, root_dir, batch_size, epochs, learning_rate, wandb_project):\n",
        "    \"\"\"\n",
        "    Запускает тренировку модели с заданными параметрами.\n",
        "    \"\"\"\n",
        "    command = [\n",
        "        \"python\", \"-m\", \"fashion_meter_module.modeling.train\",\n",
        "        \"--model-path\", model_path,\n",
        "        \"--train-csv\", train_csv,\n",
        "        \"--root-dir\", root_dir,\n",
        "        \"--batch-size\", str(batch_size),\n",
        "        \"--epochs\", str(epochs),\n",
        "        \"--learning-rate\", str(learning_rate),\n",
        "        \"--wandb-project\", wandb_project\n",
        "    ]\n",
        "    subprocess.run(command, check=True)\n",
        "    print(f\"Model training started with model path: {model_path}\")"
      ],
      "metadata": {
        "id": "W6lBD4VBhD_x"
      },
      "execution_count": null,
      "outputs": []
    },
    {
      "cell_type": "code",
      "source": [
        "def benchmark_model(test_csv, root_dir, batch_size, models):\n",
        "    \"\"\"\n",
        "    Запускает тестирование модели с использованием нескольких моделей для бенчмаркинга.\n",
        "    \"\"\"\n",
        "    command = [\n",
        "        \"python\", \"-m\", \"fashion_meter_module.modeling.benchmark\",\n",
        "        \"--test-csv\", test_csv,\n",
        "        \"--root-dir\", root_dir,\n",
        "        \"--batch-size\", str(batch_size),\n",
        "        \"--models\", models\n",
        "    ]\n",
        "    subprocess.run(command, check=True)\n",
        "    print(f\"Benchmarking started for models: {models}\")"
      ],
      "metadata": {
        "id": "tfK34ifRhJCU"
      },
      "execution_count": null,
      "outputs": []
    },
    {
      "cell_type": "code",
      "source": [
        "# Путь к исходным данным\n",
        "raw_train_csv = 'data/raw/train.csv'\n",
        "raw_test_csv = 'data/raw/test.csv'\n",
        "\n",
        "# Путь к обработанным данным\n",
        "processed_train_csv = 'data/processed/train.csv'\n",
        "processed_test_csv = 'data/processed/test.csv'\n",
        "\n",
        "# Обработка данных\n",
        "process_data(raw_train_csv, processed_train_csv)\n",
        "process_data(raw_test_csv, processed_test_csv)\n",
        "\n",
        "# Тренировка модели\n",
        "model_path = 'models/custom_model.pth'\n",
        "train_model(\n",
        "    model_path=model_path,\n",
        "    train_csv=processed_train_csv,\n",
        "    root_dir='data/raw',\n",
        "    batch_size=64,\n",
        "    epochs=15,\n",
        "    learning_rate=0.0005,\n",
        "    wandb_project=\"my-custom-training\"\n",
        ")\n",
        "\n",
        "# Бенчмаркинг\n",
        "benchmark_model(\n",
        "    test_csv=processed_test_csv,\n",
        "    root_dir='data/processed',\n",
        "    batch_size=64,\n",
        "    models=\"resnet18,resnet50,resnet101\"\n",
        ")\n"
      ],
      "metadata": {
        "id": "CUClvZc_hOpK"
      },
      "execution_count": null,
      "outputs": []
    }
  ]
}